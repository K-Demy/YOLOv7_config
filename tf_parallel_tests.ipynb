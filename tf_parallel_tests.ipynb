{
 "cells": [
  {
   "cell_type": "code",
   "execution_count": 1,
   "id": "97463891-b70c-41ce-8561-15175c5535d8",
   "metadata": {
    "scrolled": true
   },
   "outputs": [
    {
     "name": "stderr",
     "output_type": "stream",
     "text": [
      "2024-05-04 19:48:56.018147: E external/local_xla/xla/stream_executor/cuda/cuda_dnn.cc:9261] Unable to register cuDNN factory: Attempting to register factory for plugin cuDNN when one has already been registered\n",
      "2024-05-04 19:48:56.018207: E external/local_xla/xla/stream_executor/cuda/cuda_fft.cc:607] Unable to register cuFFT factory: Attempting to register factory for plugin cuFFT when one has already been registered\n",
      "2024-05-04 19:48:56.072536: E external/local_xla/xla/stream_executor/cuda/cuda_blas.cc:1515] Unable to register cuBLAS factory: Attempting to register factory for plugin cuBLAS when one has already been registered\n",
      "2024-05-04 19:48:56.156772: I tensorflow/core/platform/cpu_feature_guard.cc:182] This TensorFlow binary is optimized to use available CPU instructions in performance-critical operations.\n",
      "To enable the following instructions: SSE4.1 SSE4.2 AVX AVX2 FMA, in other operations, rebuild TensorFlow with the appropriate compiler flags.\n"
     ]
    },
    {
     "name": "stdout",
     "output_type": "stream",
     "text": [
      "/device:GPU:0\n"
     ]
    },
    {
     "name": "stderr",
     "output_type": "stream",
     "text": [
      "2024-05-04 19:48:59.816895: I external/local_xla/xla/stream_executor/cuda/cuda_executor.cc:901] successful NUMA node read from SysFS had negative value (-1), but there must be at least one NUMA node, so returning NUMA node zero. See more at https://github.com/torvalds/linux/blob/v6.0/Documentation/ABI/testing/sysfs-bus-pci#L344-L355\n",
      "2024-05-04 19:49:00.070298: I external/local_xla/xla/stream_executor/cuda/cuda_executor.cc:901] successful NUMA node read from SysFS had negative value (-1), but there must be at least one NUMA node, so returning NUMA node zero. See more at https://github.com/torvalds/linux/blob/v6.0/Documentation/ABI/testing/sysfs-bus-pci#L344-L355\n",
      "2024-05-04 19:49:00.070605: I external/local_xla/xla/stream_executor/cuda/cuda_executor.cc:901] successful NUMA node read from SysFS had negative value (-1), but there must be at least one NUMA node, so returning NUMA node zero. See more at https://github.com/torvalds/linux/blob/v6.0/Documentation/ABI/testing/sysfs-bus-pci#L344-L355\n",
      "2024-05-04 19:49:00.172074: I external/local_xla/xla/stream_executor/cuda/cuda_executor.cc:901] successful NUMA node read from SysFS had negative value (-1), but there must be at least one NUMA node, so returning NUMA node zero. See more at https://github.com/torvalds/linux/blob/v6.0/Documentation/ABI/testing/sysfs-bus-pci#L344-L355\n",
      "2024-05-04 19:49:00.173127: I external/local_xla/xla/stream_executor/cuda/cuda_executor.cc:901] successful NUMA node read from SysFS had negative value (-1), but there must be at least one NUMA node, so returning NUMA node zero. See more at https://github.com/torvalds/linux/blob/v6.0/Documentation/ABI/testing/sysfs-bus-pci#L344-L355\n",
      "2024-05-04 19:49:00.173369: I external/local_xla/xla/stream_executor/cuda/cuda_executor.cc:901] successful NUMA node read from SysFS had negative value (-1), but there must be at least one NUMA node, so returning NUMA node zero. See more at https://github.com/torvalds/linux/blob/v6.0/Documentation/ABI/testing/sysfs-bus-pci#L344-L355\n",
      "2024-05-04 19:49:00.173791: I tensorflow/core/common_runtime/gpu/gpu_device.cc:1929] Created device /device:GPU:0 with 2791 MB memory:  -> device: 0, name: NVIDIA GeForce GTX 1650, pci bus id: 0000:01:00.0, compute capability: 7.5\n"
     ]
    }
   ],
   "source": [
    "import tensorflow as tf\n",
    "device_name = tf.test.gpu_device_name()\n",
    "if not '/device:GPU:0' in device_name:\n",
    "    print('\\nERROR: GPU is not selected as hardware accelerator!')\n",
    "else:\n",
    "    print(device_name)"
   ]
  },
  {
   "cell_type": "code",
   "execution_count": 2,
   "id": "2648e427-1ebe-4d52-8b85-be14b2892b92",
   "metadata": {},
   "outputs": [
    {
     "name": "stdout",
     "output_type": "stream",
     "text": [
      "Num GPUs Available:  1\n"
     ]
    },
    {
     "name": "stderr",
     "output_type": "stream",
     "text": [
      "2024-05-04 19:49:07.677680: I external/local_xla/xla/stream_executor/cuda/cuda_executor.cc:901] successful NUMA node read from SysFS had negative value (-1), but there must be at least one NUMA node, so returning NUMA node zero. See more at https://github.com/torvalds/linux/blob/v6.0/Documentation/ABI/testing/sysfs-bus-pci#L344-L355\n",
      "2024-05-04 19:49:07.678427: I external/local_xla/xla/stream_executor/cuda/cuda_executor.cc:901] successful NUMA node read from SysFS had negative value (-1), but there must be at least one NUMA node, so returning NUMA node zero. See more at https://github.com/torvalds/linux/blob/v6.0/Documentation/ABI/testing/sysfs-bus-pci#L344-L355\n",
      "2024-05-04 19:49:07.679025: I external/local_xla/xla/stream_executor/cuda/cuda_executor.cc:901] successful NUMA node read from SysFS had negative value (-1), but there must be at least one NUMA node, so returning NUMA node zero. See more at https://github.com/torvalds/linux/blob/v6.0/Documentation/ABI/testing/sysfs-bus-pci#L344-L355\n"
     ]
    }
   ],
   "source": [
    "import tensorflow as tf\n",
    "print(\"Num GPUs Available: \", len(tf.config.list_physical_devices('GPU')))"
   ]
  },
  {
   "cell_type": "code",
   "execution_count": 3,
   "id": "77452ae8-051a-437a-b98e-3f691615fa00",
   "metadata": {},
   "outputs": [
    {
     "data": {
      "text/plain": [
       "PhysicalDevice(name='/device:GPU:0', device_type='GPU')"
      ]
     },
     "execution_count": 3,
     "metadata": {},
     "output_type": "execute_result"
    }
   ],
   "source": [
    "tf.config.PhysicalDevice('/device:GPU:0','GPU')"
   ]
  },
  {
   "cell_type": "code",
   "execution_count": 4,
   "id": "49f2d818-4f3f-46b8-97c6-7684192978a9",
   "metadata": {},
   "outputs": [
    {
     "name": "stderr",
     "output_type": "stream",
     "text": [
      "2024-05-04 19:49:15.188548: I external/local_xla/xla/stream_executor/cuda/cuda_executor.cc:901] successful NUMA node read from SysFS had negative value (-1), but there must be at least one NUMA node, so returning NUMA node zero. See more at https://github.com/torvalds/linux/blob/v6.0/Documentation/ABI/testing/sysfs-bus-pci#L344-L355\n",
      "2024-05-04 19:49:15.189421: I external/local_xla/xla/stream_executor/cuda/cuda_executor.cc:901] successful NUMA node read from SysFS had negative value (-1), but there must be at least one NUMA node, so returning NUMA node zero. See more at https://github.com/torvalds/linux/blob/v6.0/Documentation/ABI/testing/sysfs-bus-pci#L344-L355\n",
      "2024-05-04 19:49:15.190073: I external/local_xla/xla/stream_executor/cuda/cuda_executor.cc:901] successful NUMA node read from SysFS had negative value (-1), but there must be at least one NUMA node, so returning NUMA node zero. See more at https://github.com/torvalds/linux/blob/v6.0/Documentation/ABI/testing/sysfs-bus-pci#L344-L355\n",
      "2024-05-04 19:49:15.190862: I external/local_xla/xla/stream_executor/cuda/cuda_executor.cc:901] successful NUMA node read from SysFS had negative value (-1), but there must be at least one NUMA node, so returning NUMA node zero. See more at https://github.com/torvalds/linux/blob/v6.0/Documentation/ABI/testing/sysfs-bus-pci#L344-L355\n",
      "2024-05-04 19:49:15.191434: I external/local_xla/xla/stream_executor/cuda/cuda_executor.cc:901] successful NUMA node read from SysFS had negative value (-1), but there must be at least one NUMA node, so returning NUMA node zero. See more at https://github.com/torvalds/linux/blob/v6.0/Documentation/ABI/testing/sysfs-bus-pci#L344-L355\n",
      "2024-05-04 19:49:15.191800: I tensorflow/core/common_runtime/gpu/gpu_device.cc:1929] Created device /device:GPU:0 with 2791 MB memory:  -> device: 0, name: NVIDIA GeForce GTX 1650, pci bus id: 0000:01:00.0, compute capability: 7.5\n"
     ]
    },
    {
     "data": {
      "text/plain": [
       "[name: \"/device:CPU:0\"\n",
       " device_type: \"CPU\"\n",
       " memory_limit: 268435456\n",
       " locality {\n",
       " }\n",
       " incarnation: 11095703716322606692\n",
       " xla_global_id: -1,\n",
       " name: \"/device:GPU:0\"\n",
       " device_type: \"GPU\"\n",
       " memory_limit: 2926706688\n",
       " locality {\n",
       "   bus_id: 1\n",
       "   links {\n",
       "   }\n",
       " }\n",
       " incarnation: 10663038469234001591\n",
       " physical_device_desc: \"device: 0, name: NVIDIA GeForce GTX 1650, pci bus id: 0000:01:00.0, compute capability: 7.5\"\n",
       " xla_global_id: 416903419]"
      ]
     },
     "execution_count": 4,
     "metadata": {},
     "output_type": "execute_result"
    }
   ],
   "source": [
    "from tensorflow.python.client import device_lib\n",
    "\n",
    "device_lib.list_local_devices()"
   ]
  },
  {
   "cell_type": "code",
   "execution_count": 5,
   "id": "4afb7477-f6f8-4c87-8b7a-e06361aee321",
   "metadata": {},
   "outputs": [
    {
     "data": {
      "text/plain": [
       "[PhysicalDevice(name='/physical_device:GPU:0', device_type='GPU')]"
      ]
     },
     "execution_count": 5,
     "metadata": {},
     "output_type": "execute_result"
    }
   ],
   "source": [
    "tf.config.list_physical_devices('GPU')"
   ]
  },
  {
   "cell_type": "code",
   "execution_count": 6,
   "id": "518e5fac-e65f-436d-b01d-500b9b1d2734",
   "metadata": {},
   "outputs": [
    {
     "data": {
      "text/plain": [
       "\"b'GPU 0: NVIDIA GeForce GTX 1650 (UUID: GPU-cfce9f63-8dd2-fe83-b4a2-81e4e298c6df)\\\\n'\""
      ]
     },
     "execution_count": 6,
     "metadata": {},
     "output_type": "execute_result"
    }
   ],
   "source": [
    "import subprocess\n",
    "\n",
    "n = str(subprocess.check_output([\"nvidia-smi\", \"-L\"])).count('UUID')\n",
    "str(subprocess.check_output([\"nvidia-smi\", \"-L\"]))"
   ]
  },
  {
   "cell_type": "code",
   "execution_count": 7,
   "id": "c764a86f-f599-4b65-a81a-2f82096abf7b",
   "metadata": {},
   "outputs": [
    {
     "name": "stderr",
     "output_type": "stream",
     "text": [
      "2024-05-04 19:49:23.637534: I external/local_xla/xla/stream_executor/cuda/cuda_executor.cc:901] successful NUMA node read from SysFS had negative value (-1), but there must be at least one NUMA node, so returning NUMA node zero. See more at https://github.com/torvalds/linux/blob/v6.0/Documentation/ABI/testing/sysfs-bus-pci#L344-L355\n",
      "2024-05-04 19:49:23.637977: I external/local_xla/xla/stream_executor/cuda/cuda_executor.cc:901] successful NUMA node read from SysFS had negative value (-1), but there must be at least one NUMA node, so returning NUMA node zero. See more at https://github.com/torvalds/linux/blob/v6.0/Documentation/ABI/testing/sysfs-bus-pci#L344-L355\n",
      "2024-05-04 19:49:23.638285: I external/local_xla/xla/stream_executor/cuda/cuda_executor.cc:901] successful NUMA node read from SysFS had negative value (-1), but there must be at least one NUMA node, so returning NUMA node zero. See more at https://github.com/torvalds/linux/blob/v6.0/Documentation/ABI/testing/sysfs-bus-pci#L344-L355\n",
      "2024-05-04 19:49:23.638646: I external/local_xla/xla/stream_executor/cuda/cuda_executor.cc:901] successful NUMA node read from SysFS had negative value (-1), but there must be at least one NUMA node, so returning NUMA node zero. See more at https://github.com/torvalds/linux/blob/v6.0/Documentation/ABI/testing/sysfs-bus-pci#L344-L355\n",
      "2024-05-04 19:49:23.638901: I external/local_xla/xla/stream_executor/cuda/cuda_executor.cc:901] successful NUMA node read from SysFS had negative value (-1), but there must be at least one NUMA node, so returning NUMA node zero. See more at https://github.com/torvalds/linux/blob/v6.0/Documentation/ABI/testing/sysfs-bus-pci#L344-L355\n",
      "2024-05-04 19:49:23.639089: I tensorflow/core/common_runtime/gpu/gpu_device.cc:1929] Created device /job:localhost/replica:0/task:0/device:GPU:0 with 2791 MB memory:  -> device: 0, name: NVIDIA GeForce GTX 1650, pci bus id: 0000:01:00.0, compute capability: 7.5\n",
      "2024-05-04 19:49:23.681094: W external/local_tsl/tsl/framework/cpu_allocator_impl.cc:83] Allocation of 256000000 exceeds 10% of free system memory.\n",
      "2024-05-04 19:49:23.951234: W external/local_tsl/tsl/framework/cpu_allocator_impl.cc:83] Allocation of 256000000 exceeds 10% of free system memory.\n",
      "2024-05-04 19:49:24.001334: W external/local_tsl/tsl/framework/cpu_allocator_impl.cc:83] Allocation of 256000000 exceeds 10% of free system memory.\n"
     ]
    },
    {
     "name": "stdout",
     "output_type": "stream",
     "text": [
      "tf.Tensor(6238.353, shape=(), dtype=float32)\n",
      "CPU times: user 1.72 s, sys: 692 ms, total: 2.41 s\n",
      "Wall time: 526 ms\n"
     ]
    }
   ],
   "source": [
    "%%time\n",
    "import tensorflow as tf\n",
    "with tf.device('/cpu:0'):\n",
    "    print(tf.reduce_sum(tf.random.normal([8000, 8000])))"
   ]
  },
  {
   "cell_type": "code",
   "execution_count": 8,
   "id": "b8e0ff84-efd6-4151-ba9b-e54af61c218f",
   "metadata": {},
   "outputs": [
    {
     "name": "stdout",
     "output_type": "stream",
     "text": [
      "-1248.2848\n",
      "CPU times: user 43.5 ms, sys: 110 ms, total: 153 ms\n",
      "Wall time: 185 ms\n"
     ]
    }
   ],
   "source": [
    "%%time\n",
    "import tensorflow as tf\n",
    "\n",
    "# Function to generate a smaller random tensor on GPU\n",
    "def generate_random_tensor():\n",
    "    with tf.device('/device:GPU:0'):\n",
    "        smaller_tensor = tf.random.normal([3000, 3000])\n",
    "    return smaller_tensor\n",
    "\n",
    "# Generate the smaller tensor\n",
    "small_tensor = generate_random_tensor()\n",
    "\n",
    "# Perform operations with the smaller tensor\n",
    "result = tf.reduce_sum(small_tensor)\n",
    "\n",
    "# Print the result or perform other operations as needed\n",
    "print(result.numpy())\n",
    "\n",
    "# Explicitly free up GPU memory\n",
    "tf.keras.backend.clear_session()\n"
   ]
  },
  {
   "cell_type": "code",
   "execution_count": 9,
   "id": "461e3cd2-8534-4e9f-8b53-1a3d79c690f2",
   "metadata": {},
   "outputs": [
    {
     "name": "stdout",
     "output_type": "stream",
     "text": [
      "tf.Tensor(56.36606, shape=(), dtype=float32)\n",
      "CPU times: user 25.5 ms, sys: 767 µs, total: 26.3 ms\n",
      "Wall time: 26.3 ms\n"
     ]
    },
    {
     "data": {
      "text/plain": [
       "TensorShape([500, 100])"
      ]
     },
     "execution_count": 9,
     "metadata": {},
     "output_type": "execute_result"
    }
   ],
   "source": [
    "%%time\n",
    "import tensorflow as tf\n",
    "\n",
    "# Assuming you have some code that generates a random tensor\n",
    "# with shape [5000, 5000] and type float, such as:\n",
    "# random_tensor = tf.random.normal(shape=[5000, 5000], dtype=tf.float32)\n",
    "\n",
    "# Instead of creating a large tensor at once, consider generating it in smaller chunks\n",
    "chunk_size = 100\n",
    "num_chunks = 5\n",
    "\n",
    "# Create an empty list to store the chunks\n",
    "tensor_chunks = []\n",
    "\n",
    "# Generate random tensor in smaller chunks\n",
    "for _ in range(num_chunks):\n",
    "    chunk = tf.random.normal(shape=[chunk_size, chunk_size], dtype=tf.float32)\n",
    "    tensor_chunks.append(chunk)\n",
    "\n",
    "# Concatenate the chunks to get the final tensor\n",
    "random_tensor = tf.concat(tensor_chunks, axis=0)\n",
    "\n",
    "# Now you can use the random_tensor in your computations\n",
    "result = tf.reduce_sum(random_tensor)\n",
    "print(result)\n",
    "\n",
    "random_tensor.shape"
   ]
  },
  {
   "cell_type": "code",
   "execution_count": 10,
   "id": "20749565-99e2-4e1d-befd-a54fbd3c8ee0",
   "metadata": {},
   "outputs": [
    {
     "name": "stdout",
     "output_type": "stream",
     "text": [
      "451.51006600387086\n",
      "CPU times: user 2.67 s, sys: 81.9 ms, total: 2.75 s\n",
      "Wall time: 2.75 s\n"
     ]
    }
   ],
   "source": [
    "%%time\n",
    "import numpy as np\n",
    "\n",
    "# Generar una matriz de números aleatorios distribuidos normalmente\n",
    "random_matrix = np.random.normal(size=(10000, 10000))\n",
    "\n",
    "# Calcular la suma de todos los elementos en la matriz\n",
    "sum_result = np.sum(random_matrix)\n",
    "\n",
    "# Imprimir el resultado\n",
    "print(sum_result)\n"
   ]
  },
  {
   "cell_type": "code",
   "execution_count": 19,
   "id": "2bcf484a-9a45-4c19-a384-a85e8ef4e52b",
   "metadata": {},
   "outputs": [
    {
     "name": "stdout",
     "output_type": "stream",
     "text": [
      "-4588.573215644107\n",
      "CPU times: user 3.99 s, sys: 1.05 s, total: 5.04 s\n",
      "Wall time: 4.77 s\n"
     ]
    }
   ],
   "source": [
    "%%time\n",
    "import numpy as np\n",
    "from numba import njit, prange\n",
    "\n",
    "@njit(parallel=True)\n",
    "def parallel_sum(matrix):\n",
    "    rows, cols = matrix.shape\n",
    "    total_sum = 0.0\n",
    "\n",
    "    # Calcular la suma de cada columna en paralelo\n",
    "    for i in prange(rows):\n",
    "        for j in range(cols):\n",
    "            total_sum += matrix[i, j]\n",
    "\n",
    "    return total_sum\n",
    "\n",
    "# Generar una matriz de números aleatorios distribuidos normalmente\n",
    "random_matrix = np.random.normal(size=(10000, 10000))\n",
    "\n",
    "# Calcular la suma de la matriz en paralelo\n",
    "sum_result = parallel_sum(random_matrix)\n",
    "\n",
    "# Imprimir el resultado\n",
    "print(sum_result)\n"
   ]
  },
  {
   "cell_type": "code",
   "execution_count": null,
   "id": "b4b6ee32-21d0-473e-a4a5-5030c48d0108",
   "metadata": {},
   "outputs": [],
   "source": []
  },
  {
   "cell_type": "markdown",
   "id": "cb6cb331-46c5-47ba-881a-309c6e323496",
   "metadata": {},
   "source": [
    "# A simple binary classifier to predict if the given image is a cat or a dog.\n",
    "Fuente código base: [venkateshtata](https://github.com/venkateshtata/cnn_medium./tree/master) \\\n",
    "Fuente código cargar datos: [Kaggle @salmaelgezawy](https://www.kaggle.com/code/salmaelgezawy/cats-vs-dogs-classification) \\\n",
    "Fuente datos: [Kaggle](https://www.kaggle.com/datasets/d4rklucif3r/cat-and-dogs)"
   ]
  },
  {
   "cell_type": "markdown",
   "id": "8db5a711-1b46-4341-a6fe-cea715079958",
   "metadata": {},
   "source": [
    "## Importar librerias"
   ]
  },
  {
   "cell_type": "code",
   "execution_count": 11,
   "id": "d04ab958-1981-4593-814a-dba00f9cd674",
   "metadata": {},
   "outputs": [],
   "source": [
    "import numpy as np\n",
    "import os\n",
    "import cv2\n",
    "\n",
    "# Sklearn\n",
    "from sklearn.model_selection import train_test_split\n",
    "from sklearn.metrics import confusion_matrix, classification_report\n",
    "\n",
    "# Tensorflow\n",
    "from tensorflow.keras.utils import normalize\n",
    "from keras.utils import to_categorical\n",
    "from keras.models import Sequential\n",
    "from keras.layers import Conv2D\n",
    "from keras.layers import MaxPooling2D\n",
    "from keras.layers import Flatten\n",
    "from keras.layers import Dense\n",
    "from tensorflow.keras.optimizers import Adam\n",
    "from tensorflow.keras.callbacks import EarlyStopping, ModelCheckpoint\n"
   ]
  },
  {
   "cell_type": "markdown",
   "id": "5daea926-e3f3-4594-a6a1-f01888a191b7",
   "metadata": {},
   "source": [
    "## Cargar datos"
   ]
  },
  {
   "cell_type": "code",
   "execution_count": 12,
   "id": "ef250d42-1510-4722-a984-3a20f3e8fe37",
   "metadata": {},
   "outputs": [],
   "source": [
    "# Cargar datos de entrenamiento\n",
    "\n",
    "train_path = '/home/ebb/Documentos/Docs/DS/data/dogs_cats/training_set'\n",
    "\n",
    "Categories = [i for i in os.listdir(train_path)]\n",
    "\n",
    "training_data = []\n",
    "\n",
    "for category in Categories:\n",
    "    label = Categories.index(category)\n",
    "    path = os.path.join(train_path, category)\n",
    "    \n",
    "    for img in (os.listdir(path)):\n",
    "        image_path = os.path.join(path, img)\n",
    "        try:\n",
    "            image = cv2.imread(image_path)\n",
    "            image = cv2.resize(image, (150, 150))\n",
    "            training_data.append([image, label])\n",
    "        except Exception as e:\n",
    "            pass"
   ]
  },
  {
   "cell_type": "code",
   "execution_count": 13,
   "id": "6aec5a65-6cfc-4a0f-ad54-f03dc7c3a0ca",
   "metadata": {},
   "outputs": [],
   "source": [
    "# Cargar datos de evaluación\n",
    "\n",
    "test_path = '/home/ebb/Documentos/Docs/DS/data/dogs_cats/test_set'\n",
    "\n",
    "Categories = [i for i in os.listdir(test_path)]\n",
    "\n",
    "test_data = []\n",
    "\n",
    "for category in Categories:\n",
    "    label = Categories.index(category)\n",
    "    path = os.path.join(test_path, category)\n",
    "    \n",
    "    for img in (os.listdir(path)):\n",
    "        image_path = os.path.join(path, img)\n",
    "        try:\n",
    "            image = cv2.imread(image_path)\n",
    "            image = cv2.resize(image, (250, 250))\n",
    "            test_data.append([image, label])\n",
    "        except Exception as e:\n",
    "            pass"
   ]
  },
  {
   "cell_type": "markdown",
   "id": "4186a783-c6b4-4d81-88db-5a22082ecd55",
   "metadata": {},
   "source": [
    "### Dividir datos de entrenamiento, evaluación y validación"
   ]
  },
  {
   "cell_type": "code",
   "execution_count": 14,
   "id": "dbff2873-e8b0-49b4-ac61-1e312be8f12c",
   "metadata": {},
   "outputs": [],
   "source": [
    "# Entrenamiento\n",
    "\n",
    "X = []\n",
    "y = []\n",
    "\n",
    "for features, label in training_data:\n",
    "    X.append(features)\n",
    "    y.append(label)\n",
    "X = np.array(X)\n",
    "y = np.array(y)"
   ]
  },
  {
   "cell_type": "code",
   "execution_count": 15,
   "id": "d079ff17-c18c-45a2-86c5-2337662544a2",
   "metadata": {},
   "outputs": [
    {
     "data": {
      "text/plain": [
       "8000"
      ]
     },
     "execution_count": 15,
     "metadata": {},
     "output_type": "execute_result"
    }
   ],
   "source": [
    "len(X)"
   ]
  },
  {
   "cell_type": "code",
   "execution_count": 16,
   "id": "57415b96-e86c-4b4b-bdfa-e35a04805145",
   "metadata": {},
   "outputs": [],
   "source": [
    "# Evaluación\n",
    "X_test = []\n",
    "y_test = []\n",
    "\n",
    "for features, label in training_data:\n",
    "    X_test.append(features)\n",
    "    y_test.append(label)\n",
    "X_test = np.array(X)\n",
    "y_test = np.array(y)"
   ]
  },
  {
   "cell_type": "code",
   "execution_count": 17,
   "id": "03dbbe7b-2ac4-45d2-824e-48e03d6d2385",
   "metadata": {},
   "outputs": [
    {
     "name": "stdout",
     "output_type": "stream",
     "text": [
      "La forma de X_train es(5600, 150, 150, 3)\n",
      "La forma de y_train es (5600,)\n",
      "La forma de X_valid es (2400, 150, 150, 3)\n",
      "La forma de y_valid es (2400,)\n",
      "La forma de X_test es (8000, 150, 150, 3)\n",
      "La forma de y_test es (8000,)\n"
     ]
    }
   ],
   "source": [
    "# Entrenamiento y validación\n",
    "X_train, X_valid, y_train, y_valid = train_test_split(X, y, test_size=0.3, random_state=42, shuffle=True)\n",
    "\n",
    "# Check shape\n",
    "print(f'La forma de X_train es{X_train.shape}')\n",
    "print(f'La forma de y_train es {y_train.shape}')\n",
    "print(f'La forma de X_valid es {X_valid.shape}')\n",
    "print(f'La forma de y_valid es {y_valid.shape}')\n",
    "print(f'La forma de X_test es {X_test.shape}')\n",
    "print(f'La forma de y_test es {y_test.shape}')"
   ]
  },
  {
   "cell_type": "markdown",
   "id": "1d5c63c5-6bbc-4f75-abfa-1c96b9bed370",
   "metadata": {},
   "source": [
    "### Preprocesamiento datos entrada"
   ]
  },
  {
   "cell_type": "code",
   "execution_count": 18,
   "id": "35b9603c-436d-40be-bdb7-baa848897bef",
   "metadata": {},
   "outputs": [],
   "source": [
    "# Normalizar pixeles\n",
    "X_train = normalize(X_train)\n",
    "X_valid = normalize(X_valid)\n",
    "X_test = normalize(X_test)"
   ]
  },
  {
   "cell_type": "code",
   "execution_count": 19,
   "id": "2b7877d1-2780-480d-bcc6-908b48311c1f",
   "metadata": {},
   "outputs": [],
   "source": [
    "y_train_encoded = to_categorical(y_train, num_classes=2)\n",
    "y_valid_encoded = to_categorical(y_valid, num_classes=2)\n",
    "y_test_encoded = to_categorical(y_test, num_classes=2)"
   ]
  },
  {
   "cell_type": "markdown",
   "id": "52333034-91f4-4f0c-a8d1-2cb02f2315e3",
   "metadata": {},
   "source": [
    "## Crear el modelo"
   ]
  },
  {
   "cell_type": "code",
   "execution_count": 20,
   "id": "c6fc9e70-5071-42bc-a3f0-6b4941aeb059",
   "metadata": {},
   "outputs": [],
   "source": [
    "#Inicialializar red neuronal convolucional (CNN)\n",
    "model = Sequential()"
   ]
  },
  {
   "cell_type": "code",
   "execution_count": 21,
   "id": "f42daa57-20af-4af8-a737-7aac7908fcdf",
   "metadata": {},
   "outputs": [],
   "source": [
    "# Paso 1: Convolución\n",
    "model.add(Conv2D(32,(3,3),input_shape=(150,150,3),activation='relu'))"
   ]
  },
  {
   "cell_type": "code",
   "execution_count": 22,
   "id": "873f1658-ae8c-4f4a-ab30-f8f00ccd8f37",
   "metadata": {},
   "outputs": [],
   "source": [
    "# Paso 2: Pooling\n",
    "model.add(MaxPooling2D(pool_size=(2,2)))"
   ]
  },
  {
   "cell_type": "code",
   "execution_count": 23,
   "id": "dbe5e0ad-2118-43db-9607-b7762e244319",
   "metadata": {},
   "outputs": [],
   "source": [
    "# Paso 3: Agegar una segunda capa concolucional\n",
    "model.add(Conv2D(32,(3,3),activation='relu'))\n",
    "model.add(MaxPooling2D(pool_size=(2,2)))"
   ]
  },
  {
   "cell_type": "code",
   "execution_count": 24,
   "id": "29a638c1-f775-4522-91ab-8a8688004411",
   "metadata": {},
   "outputs": [],
   "source": [
    "# Paso 4: Flattening\n",
    "model.add(Flatten())"
   ]
  },
  {
   "cell_type": "code",
   "execution_count": 25,
   "id": "91ceab47-f65a-4cb8-b138-4d8bcb9dc5d2",
   "metadata": {},
   "outputs": [],
   "source": [
    "# Paso 5: Full connection\n",
    "model.add(Dense(units=128,activation='relu'))\n",
    "model.add(Dense(units=2,activation='sigmoid'))"
   ]
  },
  {
   "cell_type": "markdown",
   "id": "1b538cc7-0900-4957-aff5-8c334a6fc25d",
   "metadata": {},
   "source": [
    "## Compilar el modelo"
   ]
  },
  {
   "cell_type": "code",
   "execution_count": 26,
   "id": "159f55cf-04b6-4a82-9ffb-1fe2595fc85a",
   "metadata": {},
   "outputs": [],
   "source": [
    "model.compile(optimizer='adam',loss='binary_crossentropy',metrics=['accuracy'])\n",
    "# model.compile(optimizer=Adam(learning_rate=0.0001), loss='binary_crossentropy', metrics='accuracy')"
   ]
  },
  {
   "cell_type": "code",
   "execution_count": 27,
   "id": "fc808087-65b0-46b5-ad0f-c5e9d613e020",
   "metadata": {},
   "outputs": [],
   "source": [
    "# Set the checkpoint and earlystoping\n",
    "checkpoint = ModelCheckpoint('best_model.h5', monitor='val_loss', mode='min', save_best_only=True)\n",
    "\n",
    "early_stopping = EarlyStopping(monitor='val_accuracy', mode='max', patience=5, restore_best_weights=True)"
   ]
  },
  {
   "cell_type": "markdown",
   "id": "8977a046-ed20-4843-b81f-67f79fbf98cb",
   "metadata": {},
   "source": [
    "## Ajustar la CNN a las imagenes"
   ]
  },
  {
   "cell_type": "code",
   "execution_count": 18,
   "id": "eeaa8395-63e8-4420-9d50-537077b12b05",
   "metadata": {},
   "outputs": [],
   "source": [
    "# from keras.preprocessing.image import ImageDataGenerator\n",
    "\n",
    "# train_path = 'C:/Users/ebuit/Documents/Docs/DS/data/dogs_cats/training_set'\n",
    "# test_path = 'C:/Users/ebuit/Documents/Docs/DS/data/dogs_cats/test_set'\n",
    "# train_datagen = ImageDataGenerator(rescale=1./255,shear_range=0.2,zoom_range=0.2,horizontal_flip=True)\n",
    "# test_datagen = ImageDataGenerator(rescale=1./255)"
   ]
  },
  {
   "cell_type": "code",
   "execution_count": 19,
   "id": "132200f0-e835-4db9-b485-c72fdb4c07c8",
   "metadata": {},
   "outputs": [],
   "source": [
    "# training_set = train_datagen.flow_from_directory(train_path,target_size=(64,64),batch_size=32,classmode='binary')\n",
    "# test_set = test_datagen.flow_from_directory(test_path,target_size=(64,64),batch_size=32,class_mode='binary')\n"
   ]
  },
  {
   "cell_type": "code",
   "execution_count": 20,
   "id": "259b0cdb-6f34-4015-9b47-0ab95b9b9651",
   "metadata": {},
   "outputs": [],
   "source": [
    "# gpu_options = tf.GPUOptions(allow_growth=True)\n",
    "# session = tf.InteractiveSession(config=tf.ConfigProto(gpu_options=gpu_options))"
   ]
  },
  {
   "cell_type": "code",
   "execution_count": 28,
   "id": "055cdcee-c5b8-4ab9-acb8-9b3669d8ea46",
   "metadata": {
    "scrolled": true
   },
   "outputs": [
    {
     "name": "stderr",
     "output_type": "stream",
     "text": [
      "2024-05-04 19:52:17.623008: W external/local_tsl/tsl/framework/cpu_allocator_impl.cc:83] Allocation of 1512000000 exceeds 10% of free system memory.\n"
     ]
    },
    {
     "name": "stdout",
     "output_type": "stream",
     "text": [
      "Epoch 1/30\n"
     ]
    },
    {
     "name": "stderr",
     "output_type": "stream",
     "text": [
      "2024-05-04 19:52:20.272624: W tensorflow/core/framework/op_kernel.cc:1839] OP_REQUIRES failed at xla_ops.cc:512 : INVALID_ARGUMENT: Trying to access resource dense_1/bias/10 (defined @ /home/ebb/miniconda3/envs/tf-env-cpu/lib/python3.10/site-packages/keras/src/engine/base_layer_utils.py:137) located in device /job:localhost/replica:0/task:0/device:GPU:0 from device /job:localhost/replica:0/task:0/device:CPU:0\n",
      " Cf. https://www.tensorflow.org/xla/known_issues#tfvariable_on_a_different_device\n",
      "2024-05-04 19:52:20.272791: W tensorflow/core/framework/op_kernel.cc:1839] OP_REQUIRES failed at xla_ops.cc:512 : INVALID_ARGUMENT: Trying to access resource dense/bias/8 (defined @ /home/ebb/miniconda3/envs/tf-env-cpu/lib/python3.10/site-packages/keras/src/engine/base_layer_utils.py:137) located in device /job:localhost/replica:0/task:0/device:GPU:0 from device /job:localhost/replica:0/task:0/device:CPU:0\n",
      " Cf. https://www.tensorflow.org/xla/known_issues#tfvariable_on_a_different_device\n",
      "2024-05-04 19:52:20.281082: W tensorflow/core/framework/op_kernel.cc:1839] OP_REQUIRES failed at xla_ops.cc:512 : INVALID_ARGUMENT: Trying to access resource dense_1/kernel/9 (defined @ /home/ebb/miniconda3/envs/tf-env-cpu/lib/python3.10/site-packages/keras/src/engine/base_layer_utils.py:137) located in device /job:localhost/replica:0/task:0/device:GPU:0 from device /job:localhost/replica:0/task:0/device:CPU:0\n",
      " Cf. https://www.tensorflow.org/xla/known_issues#tfvariable_on_a_different_device\n",
      "2024-05-04 19:52:20.281134: I tensorflow/core/framework/local_rendezvous.cc:421] Local rendezvous recv item cancelled. Key hash: 4894961261608209905\n",
      "2024-05-04 19:52:20.281175: I tensorflow/core/framework/local_rendezvous.cc:421] Local rendezvous recv item cancelled. Key hash: 1685677556908311188\n",
      "2024-05-04 19:52:20.291723: W tensorflow/core/framework/op_kernel.cc:1839] OP_REQUIRES failed at xla_ops.cc:512 : INVALID_ARGUMENT: Trying to access resource dense/kernel/7 (defined @ /home/ebb/miniconda3/envs/tf-env-cpu/lib/python3.10/site-packages/keras/src/engine/base_layer_utils.py:137) located in device /job:localhost/replica:0/task:0/device:GPU:0 from device /job:localhost/replica:0/task:0/device:CPU:0\n",
      " Cf. https://www.tensorflow.org/xla/known_issues#tfvariable_on_a_different_device\n",
      "2024-05-04 19:52:20.317505: W tensorflow/core/framework/op_kernel.cc:1839] OP_REQUIRES failed at xla_ops.cc:512 : INVALID_ARGUMENT: Trying to access resource conv2d_1/bias/6 (defined @ /home/ebb/miniconda3/envs/tf-env-cpu/lib/python3.10/site-packages/keras/src/engine/base_layer_utils.py:137) located in device /job:localhost/replica:0/task:0/device:GPU:0 from device /job:localhost/replica:0/task:0/device:CPU:0\n",
      " Cf. https://www.tensorflow.org/xla/known_issues#tfvariable_on_a_different_device\n",
      "2024-05-04 19:52:20.382785: W tensorflow/core/framework/op_kernel.cc:1839] OP_REQUIRES failed at xla_ops.cc:512 : INVALID_ARGUMENT: Trying to access resource conv2d_1/kernel/5 (defined @ /home/ebb/miniconda3/envs/tf-env-cpu/lib/python3.10/site-packages/keras/src/engine/base_layer_utils.py:137) located in device /job:localhost/replica:0/task:0/device:GPU:0 from device /job:localhost/replica:0/task:0/device:CPU:0\n",
      " Cf. https://www.tensorflow.org/xla/known_issues#tfvariable_on_a_different_device\n",
      "2024-05-04 19:52:20.492481: W tensorflow/core/framework/op_kernel.cc:1839] OP_REQUIRES failed at xla_ops.cc:512 : INVALID_ARGUMENT: Trying to access resource conv2d/bias/4 (defined @ /home/ebb/miniconda3/envs/tf-env-cpu/lib/python3.10/site-packages/keras/src/engine/base_layer_utils.py:137) located in device /job:localhost/replica:0/task:0/device:GPU:0 from device /job:localhost/replica:0/task:0/device:CPU:0\n",
      " Cf. https://www.tensorflow.org/xla/known_issues#tfvariable_on_a_different_device\n",
      "2024-05-04 19:52:20.540458: W tensorflow/core/framework/op_kernel.cc:1839] OP_REQUIRES failed at xla_ops.cc:512 : INVALID_ARGUMENT: Trying to access resource conv2d/kernel/3 (defined @ /home/ebb/miniconda3/envs/tf-env-cpu/lib/python3.10/site-packages/keras/src/engine/base_layer_utils.py:137) located in device /job:localhost/replica:0/task:0/device:GPU:0 from device /job:localhost/replica:0/task:0/device:CPU:0\n",
      " Cf. https://www.tensorflow.org/xla/known_issues#tfvariable_on_a_different_device\n"
     ]
    },
    {
     "ename": "InvalidArgumentError",
     "evalue": "Graph execution error:\n\nDetected at node Adam/StatefulPartitionedCall_6 defined at (most recent call last):\n  File \"/home/ebb/miniconda3/envs/tf-env-cpu/lib/python3.10/runpy.py\", line 196, in _run_module_as_main\n\n  File \"/home/ebb/miniconda3/envs/tf-env-cpu/lib/python3.10/runpy.py\", line 86, in _run_code\n\n  File \"/home/ebb/miniconda3/envs/tf-env-cpu/lib/python3.10/site-packages/ipykernel_launcher.py\", line 18, in <module>\n\n  File \"/home/ebb/miniconda3/envs/tf-env-cpu/lib/python3.10/site-packages/traitlets/config/application.py\", line 1075, in launch_instance\n\n  File \"/home/ebb/miniconda3/envs/tf-env-cpu/lib/python3.10/site-packages/ipykernel/kernelapp.py\", line 739, in start\n\n  File \"/home/ebb/miniconda3/envs/tf-env-cpu/lib/python3.10/site-packages/tornado/platform/asyncio.py\", line 205, in start\n\n  File \"/home/ebb/miniconda3/envs/tf-env-cpu/lib/python3.10/asyncio/base_events.py\", line 603, in run_forever\n\n  File \"/home/ebb/miniconda3/envs/tf-env-cpu/lib/python3.10/asyncio/base_events.py\", line 1909, in _run_once\n\n  File \"/home/ebb/miniconda3/envs/tf-env-cpu/lib/python3.10/asyncio/events.py\", line 80, in _run\n\n  File \"/home/ebb/miniconda3/envs/tf-env-cpu/lib/python3.10/site-packages/ipykernel/kernelbase.py\", line 545, in dispatch_queue\n\n  File \"/home/ebb/miniconda3/envs/tf-env-cpu/lib/python3.10/site-packages/ipykernel/kernelbase.py\", line 534, in process_one\n\n  File \"/home/ebb/miniconda3/envs/tf-env-cpu/lib/python3.10/site-packages/ipykernel/kernelbase.py\", line 437, in dispatch_shell\n\n  File \"/home/ebb/miniconda3/envs/tf-env-cpu/lib/python3.10/site-packages/ipykernel/ipkernel.py\", line 359, in execute_request\n\n  File \"/home/ebb/miniconda3/envs/tf-env-cpu/lib/python3.10/site-packages/ipykernel/kernelbase.py\", line 778, in execute_request\n\n  File \"/home/ebb/miniconda3/envs/tf-env-cpu/lib/python3.10/site-packages/ipykernel/ipkernel.py\", line 446, in do_execute\n\n  File \"/home/ebb/miniconda3/envs/tf-env-cpu/lib/python3.10/site-packages/ipykernel/zmqshell.py\", line 549, in run_cell\n\n  File \"/home/ebb/miniconda3/envs/tf-env-cpu/lib/python3.10/site-packages/IPython/core/interactiveshell.py\", line 3075, in run_cell\n\n  File \"/home/ebb/miniconda3/envs/tf-env-cpu/lib/python3.10/site-packages/IPython/core/interactiveshell.py\", line 3130, in _run_cell\n\n  File \"/home/ebb/miniconda3/envs/tf-env-cpu/lib/python3.10/site-packages/IPython/core/async_helpers.py\", line 129, in _pseudo_sync_runner\n\n  File \"/home/ebb/miniconda3/envs/tf-env-cpu/lib/python3.10/site-packages/IPython/core/interactiveshell.py\", line 3334, in run_cell_async\n\n  File \"/home/ebb/miniconda3/envs/tf-env-cpu/lib/python3.10/site-packages/IPython/core/interactiveshell.py\", line 3517, in run_ast_nodes\n\n  File \"/home/ebb/miniconda3/envs/tf-env-cpu/lib/python3.10/site-packages/IPython/core/interactiveshell.py\", line 3577, in run_code\n\n  File \"/tmp/ipykernel_17607/1703257734.py\", line 6, in <module>\n\n  File \"/home/ebb/miniconda3/envs/tf-env-cpu/lib/python3.10/site-packages/keras/src/utils/traceback_utils.py\", line 65, in error_handler\n\n  File \"/home/ebb/miniconda3/envs/tf-env-cpu/lib/python3.10/site-packages/keras/src/engine/training.py\", line 1807, in fit\n\n  File \"/home/ebb/miniconda3/envs/tf-env-cpu/lib/python3.10/site-packages/keras/src/engine/training.py\", line 1401, in train_function\n\n  File \"/home/ebb/miniconda3/envs/tf-env-cpu/lib/python3.10/site-packages/keras/src/engine/training.py\", line 1384, in step_function\n\n  File \"/home/ebb/miniconda3/envs/tf-env-cpu/lib/python3.10/site-packages/keras/src/engine/training.py\", line 1373, in run_step\n\n  File \"/home/ebb/miniconda3/envs/tf-env-cpu/lib/python3.10/site-packages/keras/src/engine/training.py\", line 1154, in train_step\n\n  File \"/home/ebb/miniconda3/envs/tf-env-cpu/lib/python3.10/site-packages/keras/src/optimizers/optimizer.py\", line 544, in minimize\n\n  File \"/home/ebb/miniconda3/envs/tf-env-cpu/lib/python3.10/site-packages/keras/src/optimizers/optimizer.py\", line 1223, in apply_gradients\n\n  File \"/home/ebb/miniconda3/envs/tf-env-cpu/lib/python3.10/site-packages/keras/src/optimizers/optimizer.py\", line 652, in apply_gradients\n\n  File \"/home/ebb/miniconda3/envs/tf-env-cpu/lib/python3.10/site-packages/keras/src/optimizers/optimizer.py\", line 1253, in _internal_apply_gradients\n\n  File \"/home/ebb/miniconda3/envs/tf-env-cpu/lib/python3.10/site-packages/keras/src/optimizers/optimizer.py\", line 1345, in _distributed_apply_gradients_fn\n\n  File \"/home/ebb/miniconda3/envs/tf-env-cpu/lib/python3.10/site-packages/keras/src/optimizers/optimizer.py\", line 1340, in apply_grad_to_update_var\n\nDetected at node Adam/StatefulPartitionedCall_6 defined at (most recent call last):\n  File \"/home/ebb/miniconda3/envs/tf-env-cpu/lib/python3.10/runpy.py\", line 196, in _run_module_as_main\n\n  File \"/home/ebb/miniconda3/envs/tf-env-cpu/lib/python3.10/runpy.py\", line 86, in _run_code\n\n  File \"/home/ebb/miniconda3/envs/tf-env-cpu/lib/python3.10/site-packages/ipykernel_launcher.py\", line 18, in <module>\n\n  File \"/home/ebb/miniconda3/envs/tf-env-cpu/lib/python3.10/site-packages/traitlets/config/application.py\", line 1075, in launch_instance\n\n  File \"/home/ebb/miniconda3/envs/tf-env-cpu/lib/python3.10/site-packages/ipykernel/kernelapp.py\", line 739, in start\n\n  File \"/home/ebb/miniconda3/envs/tf-env-cpu/lib/python3.10/site-packages/tornado/platform/asyncio.py\", line 205, in start\n\n  File \"/home/ebb/miniconda3/envs/tf-env-cpu/lib/python3.10/asyncio/base_events.py\", line 603, in run_forever\n\n  File \"/home/ebb/miniconda3/envs/tf-env-cpu/lib/python3.10/asyncio/base_events.py\", line 1909, in _run_once\n\n  File \"/home/ebb/miniconda3/envs/tf-env-cpu/lib/python3.10/asyncio/events.py\", line 80, in _run\n\n  File \"/home/ebb/miniconda3/envs/tf-env-cpu/lib/python3.10/site-packages/ipykernel/kernelbase.py\", line 545, in dispatch_queue\n\n  File \"/home/ebb/miniconda3/envs/tf-env-cpu/lib/python3.10/site-packages/ipykernel/kernelbase.py\", line 534, in process_one\n\n  File \"/home/ebb/miniconda3/envs/tf-env-cpu/lib/python3.10/site-packages/ipykernel/kernelbase.py\", line 437, in dispatch_shell\n\n  File \"/home/ebb/miniconda3/envs/tf-env-cpu/lib/python3.10/site-packages/ipykernel/ipkernel.py\", line 359, in execute_request\n\n  File \"/home/ebb/miniconda3/envs/tf-env-cpu/lib/python3.10/site-packages/ipykernel/kernelbase.py\", line 778, in execute_request\n\n  File \"/home/ebb/miniconda3/envs/tf-env-cpu/lib/python3.10/site-packages/ipykernel/ipkernel.py\", line 446, in do_execute\n\n  File \"/home/ebb/miniconda3/envs/tf-env-cpu/lib/python3.10/site-packages/ipykernel/zmqshell.py\", line 549, in run_cell\n\n  File \"/home/ebb/miniconda3/envs/tf-env-cpu/lib/python3.10/site-packages/IPython/core/interactiveshell.py\", line 3075, in run_cell\n\n  File \"/home/ebb/miniconda3/envs/tf-env-cpu/lib/python3.10/site-packages/IPython/core/interactiveshell.py\", line 3130, in _run_cell\n\n  File \"/home/ebb/miniconda3/envs/tf-env-cpu/lib/python3.10/site-packages/IPython/core/async_helpers.py\", line 129, in _pseudo_sync_runner\n\n  File \"/home/ebb/miniconda3/envs/tf-env-cpu/lib/python3.10/site-packages/IPython/core/interactiveshell.py\", line 3334, in run_cell_async\n\n  File \"/home/ebb/miniconda3/envs/tf-env-cpu/lib/python3.10/site-packages/IPython/core/interactiveshell.py\", line 3517, in run_ast_nodes\n\n  File \"/home/ebb/miniconda3/envs/tf-env-cpu/lib/python3.10/site-packages/IPython/core/interactiveshell.py\", line 3577, in run_code\n\n  File \"/tmp/ipykernel_17607/1703257734.py\", line 6, in <module>\n\n  File \"/home/ebb/miniconda3/envs/tf-env-cpu/lib/python3.10/site-packages/keras/src/utils/traceback_utils.py\", line 65, in error_handler\n\n  File \"/home/ebb/miniconda3/envs/tf-env-cpu/lib/python3.10/site-packages/keras/src/engine/training.py\", line 1807, in fit\n\n  File \"/home/ebb/miniconda3/envs/tf-env-cpu/lib/python3.10/site-packages/keras/src/engine/training.py\", line 1401, in train_function\n\n  File \"/home/ebb/miniconda3/envs/tf-env-cpu/lib/python3.10/site-packages/keras/src/engine/training.py\", line 1384, in step_function\n\n  File \"/home/ebb/miniconda3/envs/tf-env-cpu/lib/python3.10/site-packages/keras/src/engine/training.py\", line 1373, in run_step\n\n  File \"/home/ebb/miniconda3/envs/tf-env-cpu/lib/python3.10/site-packages/keras/src/engine/training.py\", line 1154, in train_step\n\n  File \"/home/ebb/miniconda3/envs/tf-env-cpu/lib/python3.10/site-packages/keras/src/optimizers/optimizer.py\", line 544, in minimize\n\n  File \"/home/ebb/miniconda3/envs/tf-env-cpu/lib/python3.10/site-packages/keras/src/optimizers/optimizer.py\", line 1223, in apply_gradients\n\n  File \"/home/ebb/miniconda3/envs/tf-env-cpu/lib/python3.10/site-packages/keras/src/optimizers/optimizer.py\", line 652, in apply_gradients\n\n  File \"/home/ebb/miniconda3/envs/tf-env-cpu/lib/python3.10/site-packages/keras/src/optimizers/optimizer.py\", line 1253, in _internal_apply_gradients\n\n  File \"/home/ebb/miniconda3/envs/tf-env-cpu/lib/python3.10/site-packages/keras/src/optimizers/optimizer.py\", line 1345, in _distributed_apply_gradients_fn\n\n  File \"/home/ebb/miniconda3/envs/tf-env-cpu/lib/python3.10/site-packages/keras/src/optimizers/optimizer.py\", line 1340, in apply_grad_to_update_var\n\n2 root error(s) found.\n  (0) INVALID_ARGUMENT:  Trying to access resource dense_1/kernel/9 (defined @ /home/ebb/miniconda3/envs/tf-env-cpu/lib/python3.10/site-packages/keras/src/engine/base_layer_utils.py:137) located in device /job:localhost/replica:0/task:0/device:GPU:0 from device /job:localhost/replica:0/task:0/device:CPU:0\n Cf. https://www.tensorflow.org/xla/known_issues#tfvariable_on_a_different_device\n\t [[{{node Adam/StatefulPartitionedCall_6}}]]\n\t [[GroupCrossDeviceControlEdges_0/Adam/AssignAddVariableOp/_91]]\n  (1) INVALID_ARGUMENT:  Trying to access resource dense_1/kernel/9 (defined @ /home/ebb/miniconda3/envs/tf-env-cpu/lib/python3.10/site-packages/keras/src/engine/base_layer_utils.py:137) located in device /job:localhost/replica:0/task:0/device:GPU:0 from device /job:localhost/replica:0/task:0/device:CPU:0\n Cf. https://www.tensorflow.org/xla/known_issues#tfvariable_on_a_different_device\n\t [[{{node Adam/StatefulPartitionedCall_6}}]]\n0 successful operations.\n0 derived errors ignored. [Op:__inference_train_function_1191]",
     "output_type": "error",
     "traceback": [
      "\u001b[0;31m---------------------------------------------------------------------------\u001b[0m",
      "\u001b[0;31mInvalidArgumentError\u001b[0m                      Traceback (most recent call last)",
      "Cell \u001b[0;32mIn[28], line 6\u001b[0m\n\u001b[1;32m      4\u001b[0m \u001b[38;5;28;01mimport\u001b[39;00m \u001b[38;5;21;01mtensorflow\u001b[39;00m \u001b[38;5;28;01mas\u001b[39;00m \u001b[38;5;21;01mtf\u001b[39;00m\n\u001b[1;32m      5\u001b[0m \u001b[38;5;28;01mwith\u001b[39;00m tf\u001b[38;5;241m.\u001b[39mdevice(\u001b[38;5;124m'\u001b[39m\u001b[38;5;124m/CPU:0\u001b[39m\u001b[38;5;124m'\u001b[39m):\n\u001b[0;32m----> 6\u001b[0m     history \u001b[38;5;241m=\u001b[39m \u001b[43mmodel\u001b[49m\u001b[38;5;241;43m.\u001b[39;49m\u001b[43mfit\u001b[49m\u001b[43m(\u001b[49m\u001b[43mX_train\u001b[49m\u001b[43m,\u001b[49m\u001b[43m \u001b[49m\u001b[43my_train_encoded\u001b[49m\u001b[43m,\u001b[49m\u001b[43m \u001b[49m\u001b[43mvalidation_data\u001b[49m\u001b[38;5;241;43m=\u001b[39;49m\u001b[43m(\u001b[49m\u001b[43mX_valid\u001b[49m\u001b[43m,\u001b[49m\u001b[43m \u001b[49m\u001b[43my_valid_encoded\u001b[49m\u001b[43m)\u001b[49m\u001b[43m,\u001b[49m\u001b[43m \u001b[49m\u001b[43mepochs\u001b[49m\u001b[38;5;241;43m=\u001b[39;49m\u001b[38;5;241;43m30\u001b[39;49m\u001b[43m,\u001b[49m\u001b[43m \u001b[49m\u001b[43mbatch_size\u001b[49m\u001b[38;5;241;43m=\u001b[39;49m\u001b[38;5;241;43m32\u001b[39;49m\u001b[43m,\u001b[49m\u001b[43m \u001b[49m\u001b[43mcallbacks\u001b[49m\u001b[38;5;241;43m=\u001b[39;49m\u001b[43m[\u001b[49m\u001b[43mcheckpoint\u001b[49m\u001b[43m,\u001b[49m\u001b[43mearly_stopping\u001b[49m\u001b[43m]\u001b[49m\u001b[43m)\u001b[49m\n",
      "File \u001b[0;32m~/miniconda3/envs/tf-env-cpu/lib/python3.10/site-packages/keras/src/utils/traceback_utils.py:70\u001b[0m, in \u001b[0;36mfilter_traceback.<locals>.error_handler\u001b[0;34m(*args, **kwargs)\u001b[0m\n\u001b[1;32m     67\u001b[0m     filtered_tb \u001b[38;5;241m=\u001b[39m _process_traceback_frames(e\u001b[38;5;241m.\u001b[39m__traceback__)\n\u001b[1;32m     68\u001b[0m     \u001b[38;5;66;03m# To get the full stack trace, call:\u001b[39;00m\n\u001b[1;32m     69\u001b[0m     \u001b[38;5;66;03m# `tf.debugging.disable_traceback_filtering()`\u001b[39;00m\n\u001b[0;32m---> 70\u001b[0m     \u001b[38;5;28;01mraise\u001b[39;00m e\u001b[38;5;241m.\u001b[39mwith_traceback(filtered_tb) \u001b[38;5;28;01mfrom\u001b[39;00m \u001b[38;5;28;01mNone\u001b[39;00m\n\u001b[1;32m     71\u001b[0m \u001b[38;5;28;01mfinally\u001b[39;00m:\n\u001b[1;32m     72\u001b[0m     \u001b[38;5;28;01mdel\u001b[39;00m filtered_tb\n",
      "File \u001b[0;32m~/miniconda3/envs/tf-env-cpu/lib/python3.10/site-packages/tensorflow/python/eager/execute.py:53\u001b[0m, in \u001b[0;36mquick_execute\u001b[0;34m(op_name, num_outputs, inputs, attrs, ctx, name)\u001b[0m\n\u001b[1;32m     51\u001b[0m \u001b[38;5;28;01mtry\u001b[39;00m:\n\u001b[1;32m     52\u001b[0m   ctx\u001b[38;5;241m.\u001b[39mensure_initialized()\n\u001b[0;32m---> 53\u001b[0m   tensors \u001b[38;5;241m=\u001b[39m pywrap_tfe\u001b[38;5;241m.\u001b[39mTFE_Py_Execute(ctx\u001b[38;5;241m.\u001b[39m_handle, device_name, op_name,\n\u001b[1;32m     54\u001b[0m                                       inputs, attrs, num_outputs)\n\u001b[1;32m     55\u001b[0m \u001b[38;5;28;01mexcept\u001b[39;00m core\u001b[38;5;241m.\u001b[39m_NotOkStatusException \u001b[38;5;28;01mas\u001b[39;00m e:\n\u001b[1;32m     56\u001b[0m   \u001b[38;5;28;01mif\u001b[39;00m name \u001b[38;5;129;01mis\u001b[39;00m \u001b[38;5;129;01mnot\u001b[39;00m \u001b[38;5;28;01mNone\u001b[39;00m:\n",
      "\u001b[0;31mInvalidArgumentError\u001b[0m: Graph execution error:\n\nDetected at node Adam/StatefulPartitionedCall_6 defined at (most recent call last):\n  File \"/home/ebb/miniconda3/envs/tf-env-cpu/lib/python3.10/runpy.py\", line 196, in _run_module_as_main\n\n  File \"/home/ebb/miniconda3/envs/tf-env-cpu/lib/python3.10/runpy.py\", line 86, in _run_code\n\n  File \"/home/ebb/miniconda3/envs/tf-env-cpu/lib/python3.10/site-packages/ipykernel_launcher.py\", line 18, in <module>\n\n  File \"/home/ebb/miniconda3/envs/tf-env-cpu/lib/python3.10/site-packages/traitlets/config/application.py\", line 1075, in launch_instance\n\n  File \"/home/ebb/miniconda3/envs/tf-env-cpu/lib/python3.10/site-packages/ipykernel/kernelapp.py\", line 739, in start\n\n  File \"/home/ebb/miniconda3/envs/tf-env-cpu/lib/python3.10/site-packages/tornado/platform/asyncio.py\", line 205, in start\n\n  File \"/home/ebb/miniconda3/envs/tf-env-cpu/lib/python3.10/asyncio/base_events.py\", line 603, in run_forever\n\n  File \"/home/ebb/miniconda3/envs/tf-env-cpu/lib/python3.10/asyncio/base_events.py\", line 1909, in _run_once\n\n  File \"/home/ebb/miniconda3/envs/tf-env-cpu/lib/python3.10/asyncio/events.py\", line 80, in _run\n\n  File \"/home/ebb/miniconda3/envs/tf-env-cpu/lib/python3.10/site-packages/ipykernel/kernelbase.py\", line 545, in dispatch_queue\n\n  File \"/home/ebb/miniconda3/envs/tf-env-cpu/lib/python3.10/site-packages/ipykernel/kernelbase.py\", line 534, in process_one\n\n  File \"/home/ebb/miniconda3/envs/tf-env-cpu/lib/python3.10/site-packages/ipykernel/kernelbase.py\", line 437, in dispatch_shell\n\n  File \"/home/ebb/miniconda3/envs/tf-env-cpu/lib/python3.10/site-packages/ipykernel/ipkernel.py\", line 359, in execute_request\n\n  File \"/home/ebb/miniconda3/envs/tf-env-cpu/lib/python3.10/site-packages/ipykernel/kernelbase.py\", line 778, in execute_request\n\n  File \"/home/ebb/miniconda3/envs/tf-env-cpu/lib/python3.10/site-packages/ipykernel/ipkernel.py\", line 446, in do_execute\n\n  File \"/home/ebb/miniconda3/envs/tf-env-cpu/lib/python3.10/site-packages/ipykernel/zmqshell.py\", line 549, in run_cell\n\n  File \"/home/ebb/miniconda3/envs/tf-env-cpu/lib/python3.10/site-packages/IPython/core/interactiveshell.py\", line 3075, in run_cell\n\n  File \"/home/ebb/miniconda3/envs/tf-env-cpu/lib/python3.10/site-packages/IPython/core/interactiveshell.py\", line 3130, in _run_cell\n\n  File \"/home/ebb/miniconda3/envs/tf-env-cpu/lib/python3.10/site-packages/IPython/core/async_helpers.py\", line 129, in _pseudo_sync_runner\n\n  File \"/home/ebb/miniconda3/envs/tf-env-cpu/lib/python3.10/site-packages/IPython/core/interactiveshell.py\", line 3334, in run_cell_async\n\n  File \"/home/ebb/miniconda3/envs/tf-env-cpu/lib/python3.10/site-packages/IPython/core/interactiveshell.py\", line 3517, in run_ast_nodes\n\n  File \"/home/ebb/miniconda3/envs/tf-env-cpu/lib/python3.10/site-packages/IPython/core/interactiveshell.py\", line 3577, in run_code\n\n  File \"/tmp/ipykernel_17607/1703257734.py\", line 6, in <module>\n\n  File \"/home/ebb/miniconda3/envs/tf-env-cpu/lib/python3.10/site-packages/keras/src/utils/traceback_utils.py\", line 65, in error_handler\n\n  File \"/home/ebb/miniconda3/envs/tf-env-cpu/lib/python3.10/site-packages/keras/src/engine/training.py\", line 1807, in fit\n\n  File \"/home/ebb/miniconda3/envs/tf-env-cpu/lib/python3.10/site-packages/keras/src/engine/training.py\", line 1401, in train_function\n\n  File \"/home/ebb/miniconda3/envs/tf-env-cpu/lib/python3.10/site-packages/keras/src/engine/training.py\", line 1384, in step_function\n\n  File \"/home/ebb/miniconda3/envs/tf-env-cpu/lib/python3.10/site-packages/keras/src/engine/training.py\", line 1373, in run_step\n\n  File \"/home/ebb/miniconda3/envs/tf-env-cpu/lib/python3.10/site-packages/keras/src/engine/training.py\", line 1154, in train_step\n\n  File \"/home/ebb/miniconda3/envs/tf-env-cpu/lib/python3.10/site-packages/keras/src/optimizers/optimizer.py\", line 544, in minimize\n\n  File \"/home/ebb/miniconda3/envs/tf-env-cpu/lib/python3.10/site-packages/keras/src/optimizers/optimizer.py\", line 1223, in apply_gradients\n\n  File \"/home/ebb/miniconda3/envs/tf-env-cpu/lib/python3.10/site-packages/keras/src/optimizers/optimizer.py\", line 652, in apply_gradients\n\n  File \"/home/ebb/miniconda3/envs/tf-env-cpu/lib/python3.10/site-packages/keras/src/optimizers/optimizer.py\", line 1253, in _internal_apply_gradients\n\n  File \"/home/ebb/miniconda3/envs/tf-env-cpu/lib/python3.10/site-packages/keras/src/optimizers/optimizer.py\", line 1345, in _distributed_apply_gradients_fn\n\n  File \"/home/ebb/miniconda3/envs/tf-env-cpu/lib/python3.10/site-packages/keras/src/optimizers/optimizer.py\", line 1340, in apply_grad_to_update_var\n\nDetected at node Adam/StatefulPartitionedCall_6 defined at (most recent call last):\n  File \"/home/ebb/miniconda3/envs/tf-env-cpu/lib/python3.10/runpy.py\", line 196, in _run_module_as_main\n\n  File \"/home/ebb/miniconda3/envs/tf-env-cpu/lib/python3.10/runpy.py\", line 86, in _run_code\n\n  File \"/home/ebb/miniconda3/envs/tf-env-cpu/lib/python3.10/site-packages/ipykernel_launcher.py\", line 18, in <module>\n\n  File \"/home/ebb/miniconda3/envs/tf-env-cpu/lib/python3.10/site-packages/traitlets/config/application.py\", line 1075, in launch_instance\n\n  File \"/home/ebb/miniconda3/envs/tf-env-cpu/lib/python3.10/site-packages/ipykernel/kernelapp.py\", line 739, in start\n\n  File \"/home/ebb/miniconda3/envs/tf-env-cpu/lib/python3.10/site-packages/tornado/platform/asyncio.py\", line 205, in start\n\n  File \"/home/ebb/miniconda3/envs/tf-env-cpu/lib/python3.10/asyncio/base_events.py\", line 603, in run_forever\n\n  File \"/home/ebb/miniconda3/envs/tf-env-cpu/lib/python3.10/asyncio/base_events.py\", line 1909, in _run_once\n\n  File \"/home/ebb/miniconda3/envs/tf-env-cpu/lib/python3.10/asyncio/events.py\", line 80, in _run\n\n  File \"/home/ebb/miniconda3/envs/tf-env-cpu/lib/python3.10/site-packages/ipykernel/kernelbase.py\", line 545, in dispatch_queue\n\n  File \"/home/ebb/miniconda3/envs/tf-env-cpu/lib/python3.10/site-packages/ipykernel/kernelbase.py\", line 534, in process_one\n\n  File \"/home/ebb/miniconda3/envs/tf-env-cpu/lib/python3.10/site-packages/ipykernel/kernelbase.py\", line 437, in dispatch_shell\n\n  File \"/home/ebb/miniconda3/envs/tf-env-cpu/lib/python3.10/site-packages/ipykernel/ipkernel.py\", line 359, in execute_request\n\n  File \"/home/ebb/miniconda3/envs/tf-env-cpu/lib/python3.10/site-packages/ipykernel/kernelbase.py\", line 778, in execute_request\n\n  File \"/home/ebb/miniconda3/envs/tf-env-cpu/lib/python3.10/site-packages/ipykernel/ipkernel.py\", line 446, in do_execute\n\n  File \"/home/ebb/miniconda3/envs/tf-env-cpu/lib/python3.10/site-packages/ipykernel/zmqshell.py\", line 549, in run_cell\n\n  File \"/home/ebb/miniconda3/envs/tf-env-cpu/lib/python3.10/site-packages/IPython/core/interactiveshell.py\", line 3075, in run_cell\n\n  File \"/home/ebb/miniconda3/envs/tf-env-cpu/lib/python3.10/site-packages/IPython/core/interactiveshell.py\", line 3130, in _run_cell\n\n  File \"/home/ebb/miniconda3/envs/tf-env-cpu/lib/python3.10/site-packages/IPython/core/async_helpers.py\", line 129, in _pseudo_sync_runner\n\n  File \"/home/ebb/miniconda3/envs/tf-env-cpu/lib/python3.10/site-packages/IPython/core/interactiveshell.py\", line 3334, in run_cell_async\n\n  File \"/home/ebb/miniconda3/envs/tf-env-cpu/lib/python3.10/site-packages/IPython/core/interactiveshell.py\", line 3517, in run_ast_nodes\n\n  File \"/home/ebb/miniconda3/envs/tf-env-cpu/lib/python3.10/site-packages/IPython/core/interactiveshell.py\", line 3577, in run_code\n\n  File \"/tmp/ipykernel_17607/1703257734.py\", line 6, in <module>\n\n  File \"/home/ebb/miniconda3/envs/tf-env-cpu/lib/python3.10/site-packages/keras/src/utils/traceback_utils.py\", line 65, in error_handler\n\n  File \"/home/ebb/miniconda3/envs/tf-env-cpu/lib/python3.10/site-packages/keras/src/engine/training.py\", line 1807, in fit\n\n  File \"/home/ebb/miniconda3/envs/tf-env-cpu/lib/python3.10/site-packages/keras/src/engine/training.py\", line 1401, in train_function\n\n  File \"/home/ebb/miniconda3/envs/tf-env-cpu/lib/python3.10/site-packages/keras/src/engine/training.py\", line 1384, in step_function\n\n  File \"/home/ebb/miniconda3/envs/tf-env-cpu/lib/python3.10/site-packages/keras/src/engine/training.py\", line 1373, in run_step\n\n  File \"/home/ebb/miniconda3/envs/tf-env-cpu/lib/python3.10/site-packages/keras/src/engine/training.py\", line 1154, in train_step\n\n  File \"/home/ebb/miniconda3/envs/tf-env-cpu/lib/python3.10/site-packages/keras/src/optimizers/optimizer.py\", line 544, in minimize\n\n  File \"/home/ebb/miniconda3/envs/tf-env-cpu/lib/python3.10/site-packages/keras/src/optimizers/optimizer.py\", line 1223, in apply_gradients\n\n  File \"/home/ebb/miniconda3/envs/tf-env-cpu/lib/python3.10/site-packages/keras/src/optimizers/optimizer.py\", line 652, in apply_gradients\n\n  File \"/home/ebb/miniconda3/envs/tf-env-cpu/lib/python3.10/site-packages/keras/src/optimizers/optimizer.py\", line 1253, in _internal_apply_gradients\n\n  File \"/home/ebb/miniconda3/envs/tf-env-cpu/lib/python3.10/site-packages/keras/src/optimizers/optimizer.py\", line 1345, in _distributed_apply_gradients_fn\n\n  File \"/home/ebb/miniconda3/envs/tf-env-cpu/lib/python3.10/site-packages/keras/src/optimizers/optimizer.py\", line 1340, in apply_grad_to_update_var\n\n2 root error(s) found.\n  (0) INVALID_ARGUMENT:  Trying to access resource dense_1/kernel/9 (defined @ /home/ebb/miniconda3/envs/tf-env-cpu/lib/python3.10/site-packages/keras/src/engine/base_layer_utils.py:137) located in device /job:localhost/replica:0/task:0/device:GPU:0 from device /job:localhost/replica:0/task:0/device:CPU:0\n Cf. https://www.tensorflow.org/xla/known_issues#tfvariable_on_a_different_device\n\t [[{{node Adam/StatefulPartitionedCall_6}}]]\n\t [[GroupCrossDeviceControlEdges_0/Adam/AssignAddVariableOp/_91]]\n  (1) INVALID_ARGUMENT:  Trying to access resource dense_1/kernel/9 (defined @ /home/ebb/miniconda3/envs/tf-env-cpu/lib/python3.10/site-packages/keras/src/engine/base_layer_utils.py:137) located in device /job:localhost/replica:0/task:0/device:GPU:0 from device /job:localhost/replica:0/task:0/device:CPU:0\n Cf. https://www.tensorflow.org/xla/known_issues#tfvariable_on_a_different_device\n\t [[{{node Adam/StatefulPartitionedCall_6}}]]\n0 successful operations.\n0 derived errors ignored. [Op:__inference_train_function_1191]"
     ]
    }
   ],
   "source": [
    "# Ajustar los datos al modelo creado\n",
    "# steps_epoch = len(X_train)//batch_size\n",
    "# classifier.fit(training_set, steps_per_epoch=steps_epoch, epochs=25, validation_data=test_set, validation_steps=2000)\n",
    "import tensorflow as tf\n",
    "with tf.device('/CPU:0'):\n",
    "    history = model.fit(X_train, y_train_encoded, validation_data=(X_valid, y_valid_encoded), epochs=30, batch_size=32, callbacks=[checkpoint,early_stopping])\n"
   ]
  },
  {
   "cell_type": "markdown",
   "id": "82a05243-d842-42b9-8949-c64367d274c3",
   "metadata": {},
   "source": [
    "## Making new predictions from our trained model"
   ]
  },
  {
   "cell_type": "code",
   "execution_count": 29,
   "id": "3254d13b-dcac-49c2-b9e5-d7582f23ec0a",
   "metadata": {},
   "outputs": [
    {
     "name": "stderr",
     "output_type": "stream",
     "text": [
      "2024-05-04 19:58:02.515234: I external/local_xla/xla/stream_executor/cuda/cuda_dnn.cc:454] Loaded cuDNN version 8902\n"
     ]
    },
    {
     "name": "stdout",
     "output_type": "stream",
     "text": [
      "1/1 [==============================] - 2s 2s/step\n",
      "This is a cat\n"
     ]
    }
   ],
   "source": [
    "import keras.utils as image\n",
    "image_path = '/home/ebb/Documentos/Docs/DS/data/dogs_cats/single_prediction/cat_or_dog_1.jpg'\n",
    "\n",
    "test_image = image.load_img(image_path,target_size=(150,150))\n",
    "test_image = image.img_to_array(test_image)\n",
    "test_image = np.expand_dims(test_image,axis=0)\n",
    "result = model.predict(test_image)\n",
    "# training_set.class_indices\n",
    "\n",
    "if result[0][0]==1:\n",
    "    prediction = 'dog'\n",
    "    print('This is a dog!')\n",
    "else:\n",
    "    prediction = 'cat'\n",
    "    print('This is a cat')"
   ]
  },
  {
   "cell_type": "code",
   "execution_count": null,
   "id": "a483d703-78ab-456f-80e7-033ad5727b3d",
   "metadata": {},
   "outputs": [],
   "source": []
  },
  {
   "cell_type": "code",
   "execution_count": 30,
   "id": "74acdd01-24d6-4b87-9e99-a54afbff2599",
   "metadata": {},
   "outputs": [
    {
     "name": "stdout",
     "output_type": "stream",
     "text": [
      "[name: \"/device:CPU:0\"\n",
      "device_type: \"CPU\"\n",
      "memory_limit: 268435456\n",
      "locality {\n",
      "}\n",
      "incarnation: 18182648498858762876\n",
      "xla_global_id: -1\n",
      ", name: \"/device:GPU:0\"\n",
      "device_type: \"GPU\"\n",
      "memory_limit: 2926706688\n",
      "locality {\n",
      "  bus_id: 1\n",
      "  links {\n",
      "  }\n",
      "}\n",
      "incarnation: 14572223203993384395\n",
      "physical_device_desc: \"device: 0, name: NVIDIA GeForce GTX 1650, pci bus id: 0000:01:00.0, compute capability: 7.5\"\n",
      "xla_global_id: 416903419\n",
      "]\n"
     ]
    },
    {
     "name": "stderr",
     "output_type": "stream",
     "text": [
      "2024-05-04 19:58:09.962025: I external/local_xla/xla/stream_executor/cuda/cuda_executor.cc:901] successful NUMA node read from SysFS had negative value (-1), but there must be at least one NUMA node, so returning NUMA node zero. See more at https://github.com/torvalds/linux/blob/v6.0/Documentation/ABI/testing/sysfs-bus-pci#L344-L355\n",
      "2024-05-04 19:58:09.962863: I external/local_xla/xla/stream_executor/cuda/cuda_executor.cc:901] successful NUMA node read from SysFS had negative value (-1), but there must be at least one NUMA node, so returning NUMA node zero. See more at https://github.com/torvalds/linux/blob/v6.0/Documentation/ABI/testing/sysfs-bus-pci#L344-L355\n",
      "2024-05-04 19:58:09.963491: I external/local_xla/xla/stream_executor/cuda/cuda_executor.cc:901] successful NUMA node read from SysFS had negative value (-1), but there must be at least one NUMA node, so returning NUMA node zero. See more at https://github.com/torvalds/linux/blob/v6.0/Documentation/ABI/testing/sysfs-bus-pci#L344-L355\n",
      "2024-05-04 19:58:09.964235: I external/local_xla/xla/stream_executor/cuda/cuda_executor.cc:901] successful NUMA node read from SysFS had negative value (-1), but there must be at least one NUMA node, so returning NUMA node zero. See more at https://github.com/torvalds/linux/blob/v6.0/Documentation/ABI/testing/sysfs-bus-pci#L344-L355\n",
      "2024-05-04 19:58:09.964842: I external/local_xla/xla/stream_executor/cuda/cuda_executor.cc:901] successful NUMA node read from SysFS had negative value (-1), but there must be at least one NUMA node, so returning NUMA node zero. See more at https://github.com/torvalds/linux/blob/v6.0/Documentation/ABI/testing/sysfs-bus-pci#L344-L355\n",
      "2024-05-04 19:58:09.965372: I tensorflow/core/common_runtime/gpu/gpu_device.cc:1929] Created device /device:GPU:0 with 2791 MB memory:  -> device: 0, name: NVIDIA GeForce GTX 1650, pci bus id: 0000:01:00.0, compute capability: 7.5\n"
     ]
    }
   ],
   "source": [
    "from tensorflow.python.client import device_lib\n",
    "print(device_lib.list_local_devices())"
   ]
  },
  {
   "cell_type": "code",
   "execution_count": null,
   "id": "c1c58b0a-08e3-4a9d-aa48-9fcffb19f6de",
   "metadata": {},
   "outputs": [],
   "source": []
  }
 ],
 "metadata": {
  "kernelspec": {
   "display_name": "tf-env-cpu",
   "language": "python",
   "name": "tf-env-cpu"
  },
  "language_info": {
   "codemirror_mode": {
    "name": "ipython",
    "version": 3
   },
   "file_extension": ".py",
   "mimetype": "text/x-python",
   "name": "python",
   "nbconvert_exporter": "python",
   "pygments_lexer": "ipython3",
   "version": "3.10.13"
  }
 },
 "nbformat": 4,
 "nbformat_minor": 5
}
